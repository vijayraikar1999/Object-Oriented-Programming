{
 "cells": [
  {
   "cell_type": "code",
   "execution_count": 19,
   "id": "e5abeb9a",
   "metadata": {},
   "outputs": [],
   "source": [
    "from datetime import datetime\n",
    "from timezonefinder import TimezoneFinder\n",
    "from pytz import timezone\n",
    "from sunnyday import Weather\n",
    "from random import uniform"
   ]
  },
  {
   "cell_type": "code",
   "execution_count": 20,
   "id": "c95171e8",
   "metadata": {},
   "outputs": [],
   "source": [
    "class Geopoint:\n",
    "    \n",
    "    latitude_range = (-90, 90)\n",
    "    \n",
    "    def __init__(self, latitude, longitude):\n",
    "        self.latitude = latitude\n",
    "        self.longitude = longitude\n",
    "        \n",
    "    def closest_parallel(self):\n",
    "        return round(self.latitude)\n",
    "    \n",
    "    def get_time(self):\n",
    "        timezone_string = TimezoneFinder().timezone_at(lat = self.latitude, lng = self.longitude)\n",
    "        time_now = datetime.now(timezone(timezone_string))\n",
    "        print(timezone_string)\n",
    "        return time_now\n",
    "    \n",
    "    def get_weather(self):\n",
    "        weather = Weather(apikey = '4eb220c7777ddfb6a5c9d6ee0922289a', lat = 35.7, lon = 139.7)\n",
    "        return weather.next_12h_simplified()\n",
    "    \n",
    "    @classmethod\n",
    "    def random(cls):\n",
    "        return cls(latitude = uniform(-90, 90), longitude = uniform(-180, 180))\n",
    "        \n",
    "    \n",
    "    \n"
   ]
  },
  {
   "cell_type": "code",
   "execution_count": 21,
   "id": "d077d671",
   "metadata": {},
   "outputs": [
    {
     "name": "stdout",
     "output_type": "stream",
     "text": [
      "41\n",
      "Asia/Tokyo\n",
      "2021-05-14 12:51:22.959892+09:00\n",
      "[('2021-05-14 06:00:00', 79.38, 'scattered clouds', '03d'), ('2021-05-14 09:00:00', 75.47, 'scattered clouds', '03d'), ('2021-05-14 12:00:00', 69.42, 'scattered clouds', '03n'), ('2021-05-14 15:00:00', 67.98, 'overcast clouds', '04n')]\n"
     ]
    }
   ],
   "source": [
    "tokyo = Geopoint(latitude = 40.6, longitude = 139.7)\n",
    "print(tokyo.closest_parallel())\n",
    "print(tokyo.get_time())\n",
    "print(tokyo.get_weather())"
   ]
  },
  {
   "cell_type": "code",
   "execution_count": 22,
   "id": "3bc0714c",
   "metadata": {},
   "outputs": [],
   "source": [
    "geopoint = Geopoint.random()"
   ]
  },
  {
   "cell_type": "code",
   "execution_count": 23,
   "id": "a0508c2b",
   "metadata": {},
   "outputs": [
    {
     "data": {
      "text/plain": [
       "[('2021-05-14 06:00:00', 79.38, 'scattered clouds', '03d'),\n",
       " ('2021-05-14 09:00:00', 75.47, 'scattered clouds', '03d'),\n",
       " ('2021-05-14 12:00:00', 69.42, 'scattered clouds', '03n'),\n",
       " ('2021-05-14 15:00:00', 67.98, 'overcast clouds', '04n')]"
      ]
     },
     "execution_count": 23,
     "metadata": {},
     "output_type": "execute_result"
    }
   ],
   "source": [
    "geopoint.get_weather()"
   ]
  },
  {
   "cell_type": "code",
   "execution_count": 24,
   "id": "b86feaf0",
   "metadata": {},
   "outputs": [
    {
     "data": {
      "text/plain": [
       "56"
      ]
     },
     "execution_count": 24,
     "metadata": {},
     "output_type": "execute_result"
    }
   ],
   "source": [
    "geopoint.closest_parallel()"
   ]
  },
  {
   "cell_type": "code",
   "execution_count": 25,
   "id": "36aefdd9",
   "metadata": {},
   "outputs": [
    {
     "data": {
      "text/plain": [
       "56.32557091642582"
      ]
     },
     "execution_count": 25,
     "metadata": {},
     "output_type": "execute_result"
    }
   ],
   "source": [
    "geopoint.latitude"
   ]
  },
  {
   "cell_type": "code",
   "execution_count": 26,
   "id": "11aa9a0d",
   "metadata": {},
   "outputs": [
    {
     "data": {
      "text/plain": [
       "-140.6366705457206"
      ]
     },
     "execution_count": 26,
     "metadata": {},
     "output_type": "execute_result"
    }
   ],
   "source": [
    "geopoint.longitude"
   ]
  },
  {
   "cell_type": "code",
   "execution_count": 27,
   "id": "4bad1476",
   "metadata": {},
   "outputs": [
    {
     "data": {
      "text/plain": [
       "(-90, 90)"
      ]
     },
     "execution_count": 27,
     "metadata": {},
     "output_type": "execute_result"
    }
   ],
   "source": [
    "Geopoint.latitude_range"
   ]
  },
  {
   "cell_type": "code",
   "execution_count": null,
   "id": "8c34d015",
   "metadata": {},
   "outputs": [],
   "source": []
  }
 ],
 "metadata": {
  "kernelspec": {
   "display_name": "Python 3",
   "language": "python",
   "name": "python3"
  },
  "language_info": {
   "codemirror_mode": {
    "name": "ipython",
    "version": 3
   },
   "file_extension": ".py",
   "mimetype": "text/x-python",
   "name": "python",
   "nbconvert_exporter": "python",
   "pygments_lexer": "ipython3",
   "version": "3.8.5"
  }
 },
 "nbformat": 4,
 "nbformat_minor": 5
}
