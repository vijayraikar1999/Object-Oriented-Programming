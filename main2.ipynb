{
 "cells": [
  {
   "cell_type": "code",
   "execution_count": 1,
   "id": "80719216",
   "metadata": {},
   "outputs": [],
   "source": [
    "from folium import Map"
   ]
  },
  {
   "cell_type": "code",
   "execution_count": 2,
   "id": "a41bb825",
   "metadata": {},
   "outputs": [],
   "source": [
    "latitude = 40.09\n",
    "longitude = 3.47\n",
    "\n",
    "myMap = Map(location = [latitude, longitude])"
   ]
  },
  {
   "cell_type": "code",
   "execution_count": 3,
   "id": "b3ae15db",
   "metadata": {},
   "outputs": [],
   "source": [
    "myMap.save('map.html')"
   ]
  },
  {
   "cell_type": "code",
   "execution_count": null,
   "id": "ac785546",
   "metadata": {},
   "outputs": [],
   "source": []
  }
 ],
 "metadata": {
  "kernelspec": {
   "display_name": "Python 3",
   "language": "python",
   "name": "python3"
  },
  "language_info": {
   "codemirror_mode": {
    "name": "ipython",
    "version": 3
   },
   "file_extension": ".py",
   "mimetype": "text/x-python",
   "name": "python",
   "nbconvert_exporter": "python",
   "pygments_lexer": "ipython3",
   "version": "3.8.5"
  }
 },
 "nbformat": 4,
 "nbformat_minor": 5
}
