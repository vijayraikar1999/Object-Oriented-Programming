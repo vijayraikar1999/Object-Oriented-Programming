{
 "cells": [
  {
   "cell_type": "code",
   "execution_count": null,
   "id": "e843d59c",
   "metadata": {},
   "outputs": [],
   "source": [
    "from folium import Map\n",
    "from datetime import datetime\n",
    "from timezonefinder import TimezoneFinder\n",
    "from pytz import timezone\n",
    "from geo import Geopoint"
   ]
  },
  {
   "cell_type": "code",
   "execution_count": 22,
   "id": "e78eba83",
   "metadata": {},
   "outputs": [
    {
     "name": "stdout",
     "output_type": "stream",
     "text": [
      "-40.09\n",
      "-176.53\n"
     ]
    }
   ],
   "source": [
    "latitude = 40.09\n",
    "longitude = 3.47\n",
    "\n",
    "antipode_latitude = latitude * -1\n",
    "\n",
    "if longitude < 0.0:\n",
    "    antipode_longitude = longitude + 180.00\n",
    "elif longitude == 0:\n",
    "    antipode_longitude = 180.00\n",
    "elif longitude > 180.00:\n",
    "    antipode_longitude = 'Invalid longitude'\n",
    "else:\n",
    "    antipode_longitude = longitude - 180.00\n",
    "    \n",
    "print(antipode_latitude) \n",
    "print(antipode_longitude)"
   ]
  },
  {
   "cell_type": "code",
   "execution_count": 23,
   "id": "a5bcc6cd",
   "metadata": {},
   "outputs": [],
   "source": [
    "from folium import Map"
   ]
  },
  {
   "cell_type": "code",
   "execution_count": 24,
   "id": "11339b73",
   "metadata": {},
   "outputs": [],
   "source": [
    "location = list((antipode_latitude, antipode_longitude))\n",
    "myMap = Map(location)\n",
    "myMap.save(str('anitpode.html'))"
   ]
  },
  {
   "cell_type": "code",
   "execution_count": null,
   "id": "8894b8ae",
   "metadata": {},
   "outputs": [],
   "source": []
  }
 ],
 "metadata": {
  "kernelspec": {
   "display_name": "Python 3",
   "language": "python",
   "name": "python3"
  },
  "language_info": {
   "codemirror_mode": {
    "name": "ipython",
    "version": 3
   },
   "file_extension": ".py",
   "mimetype": "text/x-python",
   "name": "python",
   "nbconvert_exporter": "python",
   "pygments_lexer": "ipython3",
   "version": "3.8.5"
  }
 },
 "nbformat": 4,
 "nbformat_minor": 5
}
