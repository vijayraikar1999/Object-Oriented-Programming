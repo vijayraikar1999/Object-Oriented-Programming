{
 "cells": [
  {
   "cell_type": "code",
   "execution_count": 1,
   "id": "b4208a98",
   "metadata": {},
   "outputs": [
    {
     "data": {
      "text/plain": [
       "'User marry25 is now logged in!'"
      ]
     },
     "execution_count": 1,
     "metadata": {},
     "output_type": "execute_result"
    }
   ],
   "source": [
    "user = 'marry25'\n",
    "message = f'User {user} is now logged in!'\n",
    "message"
   ]
  },
  {
   "cell_type": "code",
   "execution_count": 2,
   "id": "43f2d8cb",
   "metadata": {},
   "outputs": [
    {
     "data": {
      "text/plain": [
       "'rry25'"
      ]
     },
     "execution_count": 2,
     "metadata": {},
     "output_type": "execute_result"
    }
   ],
   "source": [
    "user[2:]"
   ]
  },
  {
   "cell_type": "code",
   "execution_count": 3,
   "id": "505b00e1",
   "metadata": {},
   "outputs": [
    {
     "data": {
      "text/plain": [
       "'rry'"
      ]
     },
     "execution_count": 3,
     "metadata": {},
     "output_type": "execute_result"
    }
   ],
   "source": [
    "user[2:5]"
   ]
  },
  {
   "cell_type": "code",
   "execution_count": 4,
   "id": "ee027b26",
   "metadata": {},
   "outputs": [],
   "source": [
    "ls = [12,'324',(1,2,3,4)]"
   ]
  },
  {
   "cell_type": "code",
   "execution_count": 5,
   "id": "97ada66f",
   "metadata": {},
   "outputs": [
    {
     "data": {
      "text/plain": [
       "[12, '324', (1, 2, 3, 4)]"
      ]
     },
     "execution_count": 5,
     "metadata": {},
     "output_type": "execute_result"
    }
   ],
   "source": [
    "ls"
   ]
  },
  {
   "cell_type": "code",
   "execution_count": null,
   "id": "0006e37b",
   "metadata": {},
   "outputs": [],
   "source": []
  }
 ],
 "metadata": {
  "kernelspec": {
   "display_name": "Python 3",
   "language": "python",
   "name": "python3"
  },
  "language_info": {
   "codemirror_mode": {
    "name": "ipython",
    "version": 3
   },
   "file_extension": ".py",
   "mimetype": "text/x-python",
   "name": "python",
   "nbconvert_exporter": "python",
   "pygments_lexer": "ipython3",
   "version": "3.8.5"
  }
 },
 "nbformat": 4,
 "nbformat_minor": 5
}
