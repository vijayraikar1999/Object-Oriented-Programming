{
 "cells": [
  {
   "cell_type": "code",
   "execution_count": 126,
   "id": "744cdd84",
   "metadata": {},
   "outputs": [],
   "source": [
    "a = 12"
   ]
  },
  {
   "cell_type": "code",
   "execution_count": 127,
   "id": "7119642c",
   "metadata": {},
   "outputs": [
    {
     "data": {
      "text/plain": [
       "int"
      ]
     },
     "execution_count": 127,
     "metadata": {},
     "output_type": "execute_result"
    }
   ],
   "source": [
    "type(a)"
   ]
  },
  {
   "cell_type": "code",
   "execution_count": 129,
   "id": "851b6684",
   "metadata": {},
   "outputs": [],
   "source": [
    "a = 12"
   ]
  },
  {
   "cell_type": "code",
   "execution_count": null,
   "id": "573f12ed",
   "metadata": {},
   "outputs": [],
   "source": [
    "b = str(a)"
   ]
  }
 ],
 "metadata": {
  "kernelspec": {
   "display_name": "Python 3",
   "language": "python",
   "name": "python3"
  },
  "language_info": {
   "codemirror_mode": {
    "name": "ipython",
    "version": 3
   },
   "file_extension": ".py",
   "mimetype": "text/x-python",
   "name": "python",
   "nbconvert_exporter": "python",
   "pygments_lexer": "ipython3",
   "version": "3.8.5"
  }
 },
 "nbformat": 4,
 "nbformat_minor": 5
}
