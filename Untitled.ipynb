{
 "cells": [
  {
   "cell_type": "code",
   "execution_count": 2,
   "id": "942fcdbf",
   "metadata": {},
   "outputs": [],
   "source": [
    "from datetime import datetime\n",
    "from pytz import timezone"
   ]
  },
  {
   "cell_type": "code",
   "execution_count": 3,
   "id": "2643d96c",
   "metadata": {},
   "outputs": [],
   "source": [
    "birth = datetime(1879, 3, 14)"
   ]
  },
  {
   "cell_type": "code",
   "execution_count": 4,
   "id": "69a94e82",
   "metadata": {},
   "outputs": [],
   "source": [
    "death = datetime(1955, 4, 18)"
   ]
  },
  {
   "cell_type": "code",
   "execution_count": 5,
   "id": "f990a952",
   "metadata": {},
   "outputs": [
    {
     "name": "stdout",
     "output_type": "stream",
     "text": [
      "27793 days, 0:00:00\n"
     ]
    }
   ],
   "source": [
    "print(death - birth)"
   ]
  },
  {
   "cell_type": "code",
   "execution_count": 6,
   "id": "c143557c",
   "metadata": {},
   "outputs": [
    {
     "data": {
      "text/plain": [
       "76.0930869267625"
      ]
     },
     "execution_count": 6,
     "metadata": {},
     "output_type": "execute_result"
    }
   ],
   "source": [
    "(death - birth).days / 365.25"
   ]
  },
  {
   "cell_type": "code",
   "execution_count": 7,
   "id": "32f61386",
   "metadata": {},
   "outputs": [
    {
     "data": {
      "text/plain": [
       "datetime.datetime(2021, 5, 10, 18, 47, 46, 807945)"
      ]
     },
     "execution_count": 7,
     "metadata": {},
     "output_type": "execute_result"
    }
   ],
   "source": [
    "datetime.now()"
   ]
  },
  {
   "cell_type": "code",
   "execution_count": 8,
   "id": "4f6952eb",
   "metadata": {},
   "outputs": [
    {
     "name": "stdout",
     "output_type": "stream",
     "text": [
      "2021-05-10 18:47:46.968508\n"
     ]
    }
   ],
   "source": [
    "print(datetime.now())"
   ]
  },
  {
   "cell_type": "code",
   "execution_count": 9,
   "id": "5c03b0c8",
   "metadata": {},
   "outputs": [
    {
     "data": {
      "text/plain": [
       "<DstTzInfo 'Asia/Tokyo' LMT+9:19:00 STD>"
      ]
     },
     "execution_count": 9,
     "metadata": {},
     "output_type": "execute_result"
    }
   ],
   "source": [
    "timezone('Asia/Tokyo')"
   ]
  },
  {
   "cell_type": "code",
   "execution_count": 10,
   "id": "8c20b268",
   "metadata": {},
   "outputs": [
    {
     "data": {
      "text/plain": [
       "datetime.datetime(2021, 5, 10, 22, 17, 47, 283837, tzinfo=<DstTzInfo 'Asia/Tokyo' JST+9:00:00 STD>)"
      ]
     },
     "execution_count": 10,
     "metadata": {},
     "output_type": "execute_result"
    }
   ],
   "source": [
    "datetime.now(timezone('Asia/Tokyo'))"
   ]
  },
  {
   "cell_type": "code",
   "execution_count": 11,
   "id": "fd54b0fe",
   "metadata": {},
   "outputs": [
    {
     "data": {
      "text/plain": [
       "datetime.datetime(2021, 5, 10, 18, 47, 47, 450447, tzinfo=<DstTzInfo 'Asia/Kolkata' IST+5:30:00 STD>)"
      ]
     },
     "execution_count": 11,
     "metadata": {},
     "output_type": "execute_result"
    }
   ],
   "source": [
    "datetime.now(timezone('Asia/Kolkata'))"
   ]
  },
  {
   "cell_type": "code",
   "execution_count": 12,
   "id": "8c565a90",
   "metadata": {},
   "outputs": [
    {
     "data": {
      "text/plain": [
       "pytz.tzfile.Asia/Tokyo"
      ]
     },
     "execution_count": 12,
     "metadata": {},
     "output_type": "execute_result"
    }
   ],
   "source": [
    "type(timezone('Asia/Tokyo'))"
   ]
  },
  {
   "cell_type": "code",
   "execution_count": 13,
   "id": "7216ad37",
   "metadata": {},
   "outputs": [
    {
     "name": "stdout",
     "output_type": "stream",
     "text": [
      "2021-05-10 22:17:48.325902+09:00\n"
     ]
    }
   ],
   "source": [
    "print(datetime.now(timezone('Asia/Tokyo')))"
   ]
  },
  {
   "cell_type": "code",
   "execution_count": null,
   "id": "f9768f68",
   "metadata": {},
   "outputs": [],
   "source": []
  }
 ],
 "metadata": {
  "kernelspec": {
   "display_name": "Python 3",
   "language": "python",
   "name": "python3"
  },
  "language_info": {
   "codemirror_mode": {
    "name": "ipython",
    "version": 3
   },
   "file_extension": ".py",
   "mimetype": "text/x-python",
   "name": "python",
   "nbconvert_exporter": "python",
   "pygments_lexer": "ipython3",
   "version": "3.8.5"
  }
 },
 "nbformat": 4,
 "nbformat_minor": 5
}
