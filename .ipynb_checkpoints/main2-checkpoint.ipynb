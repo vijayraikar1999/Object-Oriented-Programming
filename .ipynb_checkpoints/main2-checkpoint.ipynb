{
 "cells": [
  {
   "cell_type": "code",
   "execution_count": 5,
   "id": "1dfccf55",
   "metadata": {},
   "outputs": [],
   "source": [
    "from geo import Geopoint\n",
    "from folium import Map, Marker"
   ]
  },
  {
   "cell_type": "code",
   "execution_count": 6,
   "id": "b358c77a",
   "metadata": {},
   "outputs": [
    {
     "ename": "AttributeError",
     "evalue": "'Geopoint' object has no attribute 'add_to'",
     "output_type": "error",
     "traceback": [
      "\u001b[0;31m---------------------------------------------------------------------------\u001b[0m",
      "\u001b[0;31mAttributeError\u001b[0m                            Traceback (most recent call last)",
      "\u001b[0;32m<ipython-input-6-9f09a4f1c68a>\u001b[0m in \u001b[0;36m<module>\u001b[0;34m\u001b[0m\n\u001b[1;32m      8\u001b[0m \u001b[0;31m# Create a Geopoint Instance\u001b[0m\u001b[0;34m\u001b[0m\u001b[0;34m\u001b[0m\u001b[0;34m\u001b[0m\u001b[0m\n\u001b[1;32m      9\u001b[0m \u001b[0mgeopoint\u001b[0m \u001b[0;34m=\u001b[0m \u001b[0mGeopoint\u001b[0m\u001b[0;34m(\u001b[0m\u001b[0mlatitude\u001b[0m\u001b[0;34m,\u001b[0m \u001b[0mlongitude\u001b[0m\u001b[0;34m)\u001b[0m\u001b[0;34m\u001b[0m\u001b[0;34m\u001b[0m\u001b[0m\n\u001b[0;32m---> 10\u001b[0;31m \u001b[0mgeopoint\u001b[0m\u001b[0;34m.\u001b[0m\u001b[0madd_to\u001b[0m\u001b[0;34m(\u001b[0m\u001b[0mmyMapp\u001b[0m\u001b[0;34m)\u001b[0m\u001b[0;34m\u001b[0m\u001b[0;34m\u001b[0m\u001b[0m\n\u001b[0m\u001b[1;32m     11\u001b[0m \u001b[0;34m\u001b[0m\u001b[0m\n\u001b[1;32m     12\u001b[0m \u001b[0;34m\u001b[0m\u001b[0m\n",
      "\u001b[0;31mAttributeError\u001b[0m: 'Geopoint' object has no attribute 'add_to'"
     ]
    }
   ],
   "source": [
    "# Get latitude and longitude values\n",
    "latitude = 40.09\n",
    "longitude = 3.47\n",
    "\n",
    "# Folium Map Instance and add to map\n",
    "myMap = Map(location = [latitude, longitude])\n",
    "\n",
    "# Create a Geopoint Instance\n",
    "geopoint = Geopoint(latitude, longitude)\n",
    "geopoint.add_to(myMapp)\n",
    "\n",
    "\n",
    "\n",
    "# Create a Marker Instance\n",
    "madrid = Marker(location = [40.4, -3.7],popup = 'Hi there!')\n",
    "\n",
    "madrid.add_to(myMap)\n",
    "\n",
    "myMap.save('map.html')"
   ]
  },
  {
   "cell_type": "code",
   "execution_count": null,
   "id": "ec41affe",
   "metadata": {},
   "outputs": [],
   "source": []
  }
 ],
 "metadata": {
  "kernelspec": {
   "display_name": "Python 3",
   "language": "python",
   "name": "python3"
  },
  "language_info": {
   "codemirror_mode": {
    "name": "ipython",
    "version": 3
   },
   "file_extension": ".py",
   "mimetype": "text/x-python",
   "name": "python",
   "nbconvert_exporter": "python",
   "pygments_lexer": "ipython3",
   "version": "3.8.5"
  }
 },
 "nbformat": 4,
 "nbformat_minor": 5
}
